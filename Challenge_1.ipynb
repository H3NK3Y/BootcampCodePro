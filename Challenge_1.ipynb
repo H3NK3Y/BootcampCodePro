{
 "cells": [
  {
   "cell_type": "code",
   "execution_count": 7,
   "id": "d13ef9d6",
   "metadata": {},
   "outputs": [
    {
     "name": "stdout",
     "output_type": "stream",
     "text": [
      "La cantidad total de frutas vendidas es de 40\n",
      "Sobran 20 frutas\n"
     ]
    }
   ],
   "source": [
    "cantidad_manzanas = 15\n",
    "cantidad_naranjas = 25\n",
    "cantidad_frutas = cantidad_manzanas + cantidad_naranjas\n",
    "print (\"La cantidad total de frutas vendidas es de\", cantidad_frutas)\n",
    "frutas_vendidas = 20\n",
    "frutas_restantes = cantidad_frutas - frutas_vendidas\n",
    "print (\"Sobran\", frutas_restantes, \"frutas\")\n"
   ]
  }
 ],
 "metadata": {
  "kernelspec": {
   "display_name": ".venv",
   "language": "python",
   "name": "python3"
  },
  "language_info": {
   "codemirror_mode": {
    "name": "ipython",
    "version": 3
   },
   "file_extension": ".py",
   "mimetype": "text/x-python",
   "name": "python",
   "nbconvert_exporter": "python",
   "pygments_lexer": "ipython3",
   "version": "3.12.3"
  }
 },
 "nbformat": 4,
 "nbformat_minor": 5
}
