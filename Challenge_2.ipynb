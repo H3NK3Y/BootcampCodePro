{
 "cells": [
  {
   "cell_type": "code",
   "execution_count": 12,
   "id": "2f3a14f9",
   "metadata": {},
   "outputs": [
    {
     "name": "stdout",
     "output_type": "stream",
     "text": [
      "Mi compañero se llama Samuel Barsoza y tiene 29 años\n"
     ]
    }
   ],
   "source": [
    "nombre = \"Samuel\"\n",
    "apellido = \"Barsoza\"\n",
    "print (f\"Mi compañero se llama {nombre} {apellido} y tiene 29 años\")\n"
   ]
  }
 ],
 "metadata": {
  "kernelspec": {
   "display_name": ".venv",
   "language": "python",
   "name": "python3"
  },
  "language_info": {
   "codemirror_mode": {
    "name": "ipython",
    "version": 3
   },
   "file_extension": ".py",
   "mimetype": "text/x-python",
   "name": "python",
   "nbconvert_exporter": "python",
   "pygments_lexer": "ipython3",
   "version": "3.12.3"
  }
 },
 "nbformat": 4,
 "nbformat_minor": 5
}
