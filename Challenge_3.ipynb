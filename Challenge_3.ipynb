{
 "cells": [
  {
   "cell_type": "code",
   "execution_count": 13,
   "id": "702ba596",
   "metadata": {},
   "outputs": [
    {
     "name": "stdout",
     "output_type": "stream",
     "text": [
      "El resultado de la suma de 3 y 4 es 7\n"
     ]
    }
   ],
   "source": [
    "num1 = input(\"Ingrese un numero\")\n",
    "num2 = input(\"Ingrese otro numero para sumar\")\n",
    "suma = int(num1) + int(num2)\n",
    "print(f\"El resultado de la suma de {num1} y {num2} es {suma}\")"
   ]
  }
 ],
 "metadata": {
  "kernelspec": {
   "display_name": ".venv",
   "language": "python",
   "name": "python3"
  },
  "language_info": {
   "codemirror_mode": {
    "name": "ipython",
    "version": 3
   },
   "file_extension": ".py",
   "mimetype": "text/x-python",
   "name": "python",
   "nbconvert_exporter": "python",
   "pygments_lexer": "ipython3",
   "version": "3.12.3"
  }
 },
 "nbformat": 4,
 "nbformat_minor": 5
}
