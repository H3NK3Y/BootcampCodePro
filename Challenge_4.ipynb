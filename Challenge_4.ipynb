{
 "cells": [
  {
   "cell_type": "code",
   "execution_count": 6,
   "id": "19680e44",
   "metadata": {},
   "outputs": [
    {
     "name": "stdout",
     "output_type": "stream",
     "text": [
      "1.Comprar maceta, semilla, tierra\n",
      "2.Colocar tierra en la maceta\n",
      "3.Colocar la semilla\n",
      "4.Cubrir con tierra la semilla\n",
      "5.Regar y esperar\n",
      "Felicidades! Una vez terminado este procesor realizar el siguente\n",
      "1.Comprar maceta, semilla, tierra\n",
      "2.Colocar tierra en la maceta\n",
      "3.Colocar la semilla\n",
      "4.Cubrir con tierra la semilla\n",
      "5.Regar y esperar\n",
      "Felicidades! Una vez terminado este procesor realizar el siguente\n",
      "1.Comprar maceta, semilla, tierra\n",
      "2.Colocar tierra en la maceta\n",
      "3.Colocar la semilla\n",
      "4.Cubrir con tierra la semilla\n",
      "5.Regar y esperar\n",
      "Felicidades! Una vez terminado este procesor realizar el siguente\n"
     ]
    }
   ],
   "source": [
    "def regar_planta():\n",
    "    print(\"1.Comprar maceta, semilla, tierra\")\n",
    "    print(\"2.Colocar tierra en la maceta\")\n",
    "    print(\"3.Colocar la semilla\")\n",
    "    print(\"4.Cubrir con tierra la semilla\")\n",
    "    print(\"5.Regar y esperar\")\n",
    "    print(\"Felicidades! Una vez terminado este procesor realizar el siguente\")\n",
    "\n",
    "regar_planta()\n",
    "regar_planta()\n",
    "regar_planta()"
   ]
  }
 ],
 "metadata": {
  "kernelspec": {
   "display_name": ".venv",
   "language": "python",
   "name": "python3"
  },
  "language_info": {
   "codemirror_mode": {
    "name": "ipython",
    "version": 3
   },
   "file_extension": ".py",
   "mimetype": "text/x-python",
   "name": "python",
   "nbconvert_exporter": "python",
   "pygments_lexer": "ipython3",
   "version": "3.12.3"
  }
 },
 "nbformat": 4,
 "nbformat_minor": 5
}
