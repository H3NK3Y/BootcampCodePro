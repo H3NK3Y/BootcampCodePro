{
 "cells": [
  {
   "cell_type": "code",
   "execution_count": 17,
   "id": "9f1c8713",
   "metadata": {},
   "outputs": [
    {
     "name": "stdout",
     "output_type": "stream",
     "text": [
      "que tenga un procesador de ultima generacion ryzen 9 9600K\n",
      "que tenga la tarjeta Grafica 5090 RTX \n",
      "que cuente con 1TB de memoria\n",
      "y que lleve 64 de ram a 3600 MHZ\n"
     ]
    }
   ],
   "source": [
    "def PC(ram, grafica, procesador):\n",
    "    print(f\"que tenga un procesador de ultima generacion {procesador} 9600K\")\n",
    "    print(f\"que tenga la tarjeta Grafica {grafica} RTX \")\n",
    "    print(\"que cuente con 1TB de memoria\")\n",
    "    print(f\"y que lleve {ram} de ram a 3600 MHZ\")\n",
    "\n",
    "PC(\"64\",\"5090\",\"ryzen 9\")\n",
    "\n",
    "\n"
   ]
  },
  {
   "cell_type": "code",
   "execution_count": null,
   "id": "80b20e43",
   "metadata": {},
   "outputs": [],
   "source": []
  }
 ],
 "metadata": {
  "kernelspec": {
   "display_name": ".venv",
   "language": "python",
   "name": "python3"
  },
  "language_info": {
   "codemirror_mode": {
    "name": "ipython",
    "version": 3
   },
   "file_extension": ".py",
   "mimetype": "text/x-python",
   "name": "python",
   "nbconvert_exporter": "python",
   "pygments_lexer": "ipython3",
   "version": "3.12.3"
  }
 },
 "nbformat": 4,
 "nbformat_minor": 5
}
