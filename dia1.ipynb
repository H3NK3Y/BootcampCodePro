{
 "cells": [
  {
   "cell_type": "code",
   "execution_count": 3,
   "id": "af542e2e",
   "metadata": {},
   "outputs": [
    {
     "name": "stdout",
     "output_type": "stream",
     "text": [
      "Hola Mundo\n"
     ]
    }
   ],
   "source": [
    "print (\"Hola Mundo\")"
   ]
  },
  {
   "cell_type": "markdown",
   "id": "63d6195a",
   "metadata": {},
   "source": [
    "## Variable\n",
    "Las variables siempre deben empezar con una letra o un guion bajo, nunca con un numero y siempre con minusculas\n",
    "Evitar usar x, y, z, siempre nombres descriptivos"
   ]
  },
  {
   "cell_type": "markdown",
   "id": "674110cb",
   "metadata": {},
   "source": [
    "## Ejemplo"
   ]
  },
  {
   "cell_type": "code",
   "execution_count": 16,
   "id": "d7414a25",
   "metadata": {},
   "outputs": [
    {
     "name": "stdout",
     "output_type": "stream",
     "text": [
      "Fabrizio\n",
      "Vera\n",
      "19\n",
      "Luis\n",
      "Coronel\n",
      "2005\n"
     ]
    }
   ],
   "source": [
    "nombre = \"Fabrizio\"\n",
    "apellido = \"Vera\"\n",
    "edad = \"19\"\n",
    "print (nombre)\n",
    "print(apellido)\n",
    "print(edad)\n",
    "nombre = \"Luis\"\n",
    "apellido = \"Coronel\"\n",
    "edad = \"2005\"\n",
    "print(nombre)\n",
    "print(apellido)\n",
    "print(edad)\n"
   ]
  },
  {
   "cell_type": "markdown",
   "id": "03406358",
   "metadata": {},
   "source": [
    "##  Tipos de datos\n",
    "Entero\n",
    "int-integer-112\n",
    "Decimal\n",
    "float - floating - 1.2\n",
    "Caracter\n",
    "str - string - \"Eduardo\"\n",
    "bool - boolean - true - false\n",
    "\n"
   ]
  },
  {
   "cell_type": "markdown",
   "id": "39e1ba65",
   "metadata": {},
   "source": [
    "## Operaciones aritmeticas\n",
    "suma +\n",
    "resta -\n",
    "multiplicacion *\n",
    "division /\n",
    "division entera //"
   ]
  },
  {
   "cell_type": "code",
   "execution_count": 24,
   "id": "f7ba67cb",
   "metadata": {},
   "outputs": [
    {
     "name": "stdout",
     "output_type": "stream",
     "text": [
      "35000\n",
      "20000\n",
      "1600\n"
     ]
    }
   ],
   "source": [
    "precio_total = 15000 + 20000\n",
    "print (precio_total)\n",
    "precio_descuento = precio_total - 15000\n",
    "print (precio_descuento)\n",
    "precio_gaseosa1L = 6000\n",
    "cantidad_gaseosa = 4\n",
    "promedio_persona = 15\n",
    "costo_total = (precio_gaseosa1L * cantidad_gaseosa) // promedio_persona\n",
    "print (costo_total) \n"
   ]
  },
  {
   "cell_type": "code",
   "execution_count": 32,
   "id": "cf57a344",
   "metadata": {},
   "outputs": [
    {
     "name": "stdout",
     "output_type": "stream",
     "text": [
      "Fabrizio Vera\n"
     ]
    }
   ],
   "source": [
    "nombre = \"Fabrizio \"\n",
    "apellido = \"Vera\"\n",
    "nombre_completo = nombre + apellido\n",
    "print(nombre_completo)"
   ]
  },
  {
   "cell_type": "code",
   "execution_count": 35,
   "id": "ddcd703a",
   "metadata": {},
   "outputs": [
    {
     "name": "stdout",
     "output_type": "stream",
     "text": [
      "Fabrizio Vera\n",
      "Mi nombre es Fabrizio Vera\n"
     ]
    }
   ],
   "source": [
    "nombre = \"Fabrizio\"\n",
    "apellido = \"Vera\"\n",
    "nombre_completo = nombre + ' ' + apellido\n",
    "print (nombre_completo)\n",
    "print (\"Mi nombre es\", nombre_completo)"
   ]
  },
  {
   "cell_type": "code",
   "execution_count": 54,
   "id": "ac37a0d9",
   "metadata": {},
   "outputs": [
    {
     "name": "stdout",
     "output_type": "stream",
     "text": [
      "fabrizio\n",
      "El resultado es  3\n"
     ]
    }
   ],
   "source": [
    "nombre = input(\"Cual es tu nombre?\")\n",
    "print(nombre)\n",
    "numero1 = input(\"Escribe un numero\")\n",
    "numero2 = input(\"Escribe otro numero\")\n",
    "resultado = int(numero1) + int(numero2)\n",
    "print (f\"El resultado es \", resultado)"
   ]
  },
  {
   "cell_type": "markdown",
   "id": "08d38a39",
   "metadata": {},
   "source": [
    "## Funciones\n",
    "Son un conjunto de instrucciones de una operacion que quisieramos volver a repetir en diferentes partes de nuestro programa"
   ]
  },
  {
   "cell_type": "code",
   "execution_count": 62,
   "id": "eaeb748c",
   "metadata": {},
   "outputs": [
    {
     "name": "stdout",
     "output_type": "stream",
     "text": [
      "Abrir el pan\n",
      "Untar mayonesa\n",
      "Agregar queso y jamon\n",
      "Cerrar con pan\n"
     ]
    }
   ],
   "source": [
    "def preparar_sandwich():\n",
    "    ##indentacion\n",
    "    print ('Abrir el pan')\n",
    "    print('Untar mayonesa')\n",
    "    print('Agregar queso y jamon')\n",
    "    print('Cerrar con pan')\n",
    "\n",
    "preparar_sandwich()\n"
   ]
  },
  {
   "cell_type": "markdown",
   "id": "e0cdea82",
   "metadata": {},
   "source": [
    " ## Parametros y argumentos\n",
    "las funciones pueden recibir informacion desde afuera, para poder hacer cosas diferentes cada vez que se usan. Esa informacion se pasa a traves de parametros(cuando definimos la funcion) y argumentos(cuando llamamos a la funcion)"
   ]
  },
  {
   "cell_type": "code",
   "execution_count": 68,
   "id": "099f31a3",
   "metadata": {},
   "outputs": [
    {
     "name": "stdout",
     "output_type": "stream",
     "text": [
      "Abrir el pan\n",
      "Agregar huevo y panceta\n",
      "Cerrar pan\n",
      "Listo\n",
      "Abrir el pan\n",
      "Agregar jamon y queso\n",
      "Cerrar pan\n",
      "Listo\n",
      "Abrir el pan\n",
      "Agregar tomate y lechuga\n",
      "Cerrar pan\n",
      "Listo\n"
     ]
    }
   ],
   "source": [
    "def preparar_sandwich2(ingrediente):\n",
    "    print(\"Abrir el pan\")\n",
    "    print(f\"Agregar {ingrediente}\")\n",
    "    print(\"Cerrar pan\")\n",
    "    print(\"Listo\")\n",
    "\n",
    "preparar_sandwich2(\"huevo y panceta\")\n",
    "preparar_sandwich2(\"jamon y queso\")\n",
    "preparar_sandwich2(\"tomate y lechuga\")"
   ]
  }
 ],
 "metadata": {
  "kernelspec": {
   "display_name": ".venv",
   "language": "python",
   "name": "python3"
  },
  "language_info": {
   "codemirror_mode": {
    "name": "ipython",
    "version": 3
   },
   "file_extension": ".py",
   "mimetype": "text/x-python",
   "name": "python",
   "nbconvert_exporter": "python",
   "pygments_lexer": "ipython3",
   "version": "3.12.3"
  }
 },
 "nbformat": 4,
 "nbformat_minor": 5
}
