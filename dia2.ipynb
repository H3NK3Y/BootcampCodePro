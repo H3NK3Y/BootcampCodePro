{
 "cells": [
  {
   "cell_type": "code",
   "execution_count": 15,
   "id": "7f9b5b8b",
   "metadata": {},
   "outputs": [
    {
     "name": "stdout",
     "output_type": "stream",
     "text": [
      "Buen dia Fabrizio\n"
     ]
    }
   ],
   "source": [
    "def saludo_bienvenida(nombre):\n",
    "    print(f\"Buen dia {nombre}\")\n",
    "\n",
    "saludo_bienvenida(\"Fabrizio\")\n"
   ]
  },
  {
   "cell_type": "code",
   "execution_count": 16,
   "id": "9e1f72d5",
   "metadata": {},
   "outputs": [
    {
     "name": "stdout",
     "output_type": "stream",
     "text": [
      "Buen dia Fabrizio\n"
     ]
    }
   ],
   "source": [
    "nombre = input(\"Ingrese su nombre\")\n",
    "saludo_bienvenida(nombre)"
   ]
  },
  {
   "cell_type": "code",
   "execution_count": null,
   "id": "b7a950a2",
   "metadata": {},
   "outputs": [
    {
     "name": "stdout",
     "output_type": "stream",
     "text": [
      "Bienvenido Fabrizio\n"
     ]
    }
   ],
   "source": [
    "usuario = input(\"Ingrese su nombre\")\n",
    "def saludo_bienvenida(usuario):\n",
    "    print(f\"Bienvenido {usuario}\")\n",
    "saludo_bienvenida(usuario)\n",
    "          "
   ]
  },
  {
   "cell_type": "markdown",
   "id": "fb64fc13",
   "metadata": {},
   "source": [
    "## Condicionales\n",
    "Laas condiciones en programacion nos permiten ejecutar diferentes bloques de codigo segun si se cumple o no una condicion. Esto es util cuando queremos que el programa haga algo solo si se cumple una condicion especifica\n",
    "Es como un guardia en una puerta controlando si las personas pueden o no ingresar a un lugar\n",
    "## Operadores de comparacion\n",
    "*Mayor >\n",
    "*Menor <\n",
    "*Mayor o igual >=\n",
    "*Menor o igual <=\n",
    "*Es igual ==\n",
    "*Diferente !=\n",
    "\n",
    "## Palabras claves\n",
    "- If(si)\n",
    "- Elif(sino si)\n",
    "- Else(sino)"
   ]
  },
  {
   "cell_type": "code",
   "execution_count": 38,
   "id": "079d5609",
   "metadata": {},
   "outputs": [
    {
     "name": "stdout",
     "output_type": "stream",
     "text": [
      "Usted no ha ingresado su edad, porfavor ingrese su edad\n"
     ]
    }
   ],
   "source": [
    "edad = input(\"Ingrese su edad\")\n",
    "if int(edad) < 18:\n",
    "    print(\"No puede ingresar\")\n",
    "elif int(edad) > 18:\n",
    "    print(\"Puede ingresar\")\n",
    "else:\n",
    "    print(\"Usted no ha ingresado su edad, porfavor ingrese su edad\")"
   ]
  },
  {
   "cell_type": "markdown",
   "id": "ff1a5db7",
   "metadata": {},
   "source": [
    "## Operadores logicos\n",
    "*and(y) - Solo se cumple si ambas condiciones son verdaderas\n",
    "*or(o) - Se cumple si al menos una de las condiciones es verdadrera\n",
    "*not(no) - Niega la condicion: si es verdadera la convierte en falsa y al reves"
   ]
  },
  {
   "cell_type": "code",
   "execution_count": 50,
   "id": "cd27a897",
   "metadata": {},
   "outputs": [
    {
     "name": "stdout",
     "output_type": "stream",
     "text": [
      "Estudiante\n"
     ]
    }
   ],
   "source": [
    "edad_persona = 18\n",
    "trabaja = True \n",
    "if edad_persona <= 18:\n",
    "    print(\"Estudiante\")\n",
    "elif edad_persona < 65 and trabaja == True:\n",
    "    print(\"Trabaja activamente\")\n",
    "elif edad_persona < 65 and trabaja == False:\n",
    "    print(\"Desempleado\")\n",
    "else:\n",
    "    print(\"Jubilado\")\n"
   ]
  },
  {
   "cell_type": "markdown",
   "id": "8cffd4be",
   "metadata": {},
   "source": [
    "## While\n",
    "While nos permite ejecutar una serie de instrucciones mientras una condicion se cumple. Al momento que la condicion deje de ser cierta el bucle va parar"
   ]
  },
  {
   "cell_type": "code",
   "execution_count": null,
   "id": "ffcf8ffa",
   "metadata": {},
   "outputs": [
    {
     "name": "stdout",
     "output_type": "stream",
     "text": [
      "10\n",
      "Numero correcto\n",
      "10\n"
     ]
    }
   ],
   "source": [
    "numero_a_adivinar = 10\n",
    "numero = 3\n",
    "while numero != numero_a_adivinar:\n",
    "    numero = int(input(\"Ingrese un numero\"))\n",
    "    print(numero)\n",
    "\n",
    "print(\"Numero correcto\")"
   ]
  },
  {
   "cell_type": "code",
   "execution_count": 58,
   "id": "fba9e5d1",
   "metadata": {},
   "outputs": [
    {
     "name": "stdout",
     "output_type": "stream",
     "text": [
      "El numero es correcto\n"
     ]
    }
   ],
   "source": [
    "numero = 10\n",
    "while True:\n",
    "    numero_ingresado = int(input(\"Introduce un numero\"))\n",
    "    if numero_ingresado == numero:\n",
    "        print(\"El numero es correcto\")\n",
    "        break\n",
    "    else:\n",
    "        print(\"El numero es incorrecto\")"
   ]
  },
  {
   "cell_type": "markdown",
   "id": "55870b42",
   "metadata": {},
   "source": [
    "## Listas\n",
    "Una lista es una agrupacion de objetos, que pueden ser de distintos tipos de datos. La construimos colocando los elementos entre corcheters y separados por comas\n",
    "indice = empieza de la izquierda a la derecha y empieza por creo\n",
    "posicion = tambien empieza por la izquierda a la derecha pero empieza por uno"
   ]
  },
  {
   "cell_type": "code",
   "execution_count": 1,
   "id": "2459727e",
   "metadata": {},
   "outputs": [
    {
     "name": "stdout",
     "output_type": "stream",
     "text": [
      "banana\n"
     ]
    }
   ],
   "source": [
    "lista_frutas = [\"manzana\", \"pera\", \"banana\"]\n",
    "lista_bool = [True, False]\n",
    "lista_numeros = [1, 2, 3]\n",
    "print(lista_frutas[2])\n",
    "lista_frutas.append[]\n"
   ]
  },
  {
   "cell_type": "markdown",
   "id": "b5caf8fb",
   "metadata": {},
   "source": [
    "Cuando queremos repetir una accion una cierta cantidad de veces, podemos utilizar un bucle interactivo\n",
    "iteracion: una accion repetida una cierta cantidad de veces, pero en cada repeticion tiene en cuenta el valor anterior"
   ]
  },
  {
   "cell_type": "code",
   "execution_count": 2,
   "id": "9405956d",
   "metadata": {},
   "outputs": [
    {
     "name": "stdout",
     "output_type": "stream",
     "text": [
      "1\n",
      "2\n",
      "3\n",
      "4\n",
      "5\n",
      "6\n",
      "7\n"
     ]
    }
   ],
   "source": [
    "dias_semana = [1,2,3,4,5,6,7]\n",
    "for i in dias_semana:\n",
    "    print(i)"
   ]
  },
  {
   "cell_type": "code",
   "execution_count": 3,
   "id": "2f11f0ae",
   "metadata": {},
   "outputs": [
    {
     "name": "stdout",
     "output_type": "stream",
     "text": [
      "Hola Buen dia\n",
      "Hola Buen dia\n",
      "Hola Buen dia\n",
      "Hola Buen dia\n",
      "Hola Buen dia\n"
     ]
    }
   ],
   "source": [
    "for i in range(5):\n",
    "    print(\"Hola Buen dia\")"
   ]
  },
  {
   "cell_type": "code",
   "execution_count": null,
   "id": "0bd8e58f",
   "metadata": {},
   "outputs": [],
   "source": []
  }
 ],
 "metadata": {
  "kernelspec": {
   "display_name": ".venv",
   "language": "python",
   "name": "python3"
  },
  "language_info": {
   "codemirror_mode": {
    "name": "ipython",
    "version": 3
   },
   "file_extension": ".py",
   "mimetype": "text/x-python",
   "name": "python",
   "nbconvert_exporter": "python",
   "pygments_lexer": "ipython3",
   "version": "3.12.3"
  }
 },
 "nbformat": 4,
 "nbformat_minor": 5
}
