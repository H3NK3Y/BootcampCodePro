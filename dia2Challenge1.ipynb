{
 "cells": [
  {
   "cell_type": "code",
   "execution_count": null,
   "id": "13b1d294",
   "metadata": {},
   "outputs": [
    {
     "name": "stdout",
     "output_type": "stream",
     "text": [
      "Podes hacer lo que quieras\n"
     ]
    }
   ],
   "source": [
    "usuario = int(input(\"Ingrese su edad\"))\n",
    "if (usuario) < 18:\n",
    "    print(\"Juguito nomas\")\n",
    "elif (usuario) <= 21:\n",
    "    print(\"Podes tomar pero no comprar\")\n",
    "else:\n",
    "    print(\"Podes hacer lo que quieras\")"
   ]
  }
 ],
 "metadata": {
  "kernelspec": {
   "display_name": ".venv",
   "language": "python",
   "name": "python3"
  },
  "language_info": {
   "codemirror_mode": {
    "name": "ipython",
    "version": 3
   },
   "file_extension": ".py",
   "mimetype": "text/x-python",
   "name": "python",
   "nbconvert_exporter": "python",
   "pygments_lexer": "ipython3",
   "version": "3.12.3"
  }
 },
 "nbformat": 4,
 "nbformat_minor": 5
}
