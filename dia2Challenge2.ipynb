{
 "cells": [
  {
   "cell_type": "code",
   "execution_count": null,
   "id": "cd9e7033",
   "metadata": {},
   "outputs": [
    {
     "name": "stdout",
     "output_type": "stream",
     "text": [
      "Que fresquete\n"
     ]
    }
   ],
   "source": [
    "def celsius(temperatura):\n",
    "    temperatura = int(input(\"Cual es la temperatura actual? En grado Celsius\"))\n",
    "    if temperatura >= -10 and temperatura <= 18:\n",
    "        print(\"Que fresquete\")\n",
    "    elif temperatura >= 19 and temperatura <= 30:\n",
    "        print(\"Calor'i\")\n",
    "    elif temperatura >= 31 and temperatura <= 45:\n",
    "        print(\"Hakuuuuuu\")\n",
    "    else:\n",
    "        print(\"Ñamano mba'e\")\n",
    "celsius(temperatura)"
   ]
  }
 ],
 "metadata": {
  "kernelspec": {
   "display_name": ".venv",
   "language": "python",
   "name": "python3"
  },
  "language_info": {
   "codemirror_mode": {
    "name": "ipython",
    "version": 3
   },
   "file_extension": ".py",
   "mimetype": "text/x-python",
   "name": "python",
   "nbconvert_exporter": "python",
   "pygments_lexer": "ipython3",
   "version": "3.12.3"
  }
 },
 "nbformat": 4,
 "nbformat_minor": 5
}
