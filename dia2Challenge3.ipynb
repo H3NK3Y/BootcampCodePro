{
 "cells": [
  {
   "cell_type": "code",
   "execution_count": 7,
   "id": "bb88865c",
   "metadata": {},
   "outputs": [
    {
     "name": "stdout",
     "output_type": "stream",
     "text": [
      "La contraseña es incorrecta\n",
      "Bienvenido pinguinito\n"
     ]
    }
   ],
   "source": [
    "contraseña_correcta = \"pinguino\"\n",
    "while True:\n",
    "        contraseña = input(\"Ingrese la contraseña\")\n",
    "        if contraseña == contraseña_correcta:\n",
    "            print(\"Bienvenido pinguinito\")\n",
    "            break\n",
    "        else:\n",
    "            print(\"La contraseña es incorrecta\")\n",
    "\n"
   ]
  }
 ],
 "metadata": {
  "kernelspec": {
   "display_name": ".venv",
   "language": "python",
   "name": "python3"
  },
  "language_info": {
   "codemirror_mode": {
    "name": "ipython",
    "version": 3
   },
   "file_extension": ".py",
   "mimetype": "text/x-python",
   "name": "python",
   "nbconvert_exporter": "python",
   "pygments_lexer": "ipython3",
   "version": "3.12.3"
  }
 },
 "nbformat": 4,
 "nbformat_minor": 5
}
