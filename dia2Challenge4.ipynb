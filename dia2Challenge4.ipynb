{
 "cells": [
  {
   "cell_type": "code",
   "execution_count": 13,
   "id": "4ccc35dc",
   "metadata": {},
   "outputs": [
    {
     "name": "stdout",
     "output_type": "stream",
     "text": [
      "['Julian', 'Alfaro', 'Reinaldo', 'Mariana', 'Fabrizio', 'Luis']\n",
      "['Julian', 'Alvaro', 'Reinaldo', 'Mariana', 'Fabrizio', 'Luis']\n",
      "['Julian', 'Alvaro', 'Mariana', 'Fabrizio', 'Luis']\n",
      "['Julian', 'Alvaro', 'Fabrizio', 'Luis']\n"
     ]
    }
   ],
   "source": [
    "lista_personas = [\"Julian\", \"Alfaro\",\"Reinaldo\",\"Mariana\",\"Fabrizio\"]\n",
    "lista_personas.append(\"Luis\")\n",
    "print(lista_personas)\n",
    "lista_personas[1] = \"Alvaro\"\n",
    "print(lista_personas)\n",
    "lista_personas.remove(\"Reinaldo\")\n",
    "print(lista_personas)\n",
    "lista_personas.pop(2)\n",
    "print(lista_personas)\n"
   ]
  }
 ],
 "metadata": {
  "kernelspec": {
   "display_name": ".venv",
   "language": "python",
   "name": "python3"
  },
  "language_info": {
   "codemirror_mode": {
    "name": "ipython",
    "version": 3
   },
   "file_extension": ".py",
   "mimetype": "text/x-python",
   "name": "python",
   "nbconvert_exporter": "python",
   "pygments_lexer": "ipython3",
   "version": "3.12.3"
  }
 },
 "nbformat": 4,
 "nbformat_minor": 5
}
