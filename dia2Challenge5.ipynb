{
 "cells": [
  {
   "cell_type": "code",
   "execution_count": 20,
   "id": "f26d34ca",
   "metadata": {},
   "outputs": [
    {
     "name": "stdout",
     "output_type": "stream",
     "text": [
      "El resultado de 1 * 2 es:2\n",
      "El resultado de 2 * 2 es:4\n",
      "El resultado de 3 * 2 es:6\n",
      "El resultado de 4 * 2 es:8\n",
      "El resultado de 5 * 2 es:10\n",
      "El resultado de 6 * 2 es:12\n",
      "El resultado de 7 * 2 es:14\n",
      "El resultado de 8 * 2 es:16\n",
      "El resultado de 9 * 2 es:18\n",
      "El resultado de 10 * 2 es:20\n"
     ]
    }
   ],
   "source": [
    "for i in range(1,11):\n",
    "    resultado = i*2\n",
    "\n",
    "    print(f\"El resultado de {i} * 2 es:{resultado}\")"
   ]
  }
 ],
 "metadata": {
  "kernelspec": {
   "display_name": ".venv",
   "language": "python",
   "name": "python3"
  },
  "language_info": {
   "codemirror_mode": {
    "name": "ipython",
    "version": 3
   },
   "file_extension": ".py",
   "mimetype": "text/x-python",
   "name": "python",
   "nbconvert_exporter": "python",
   "pygments_lexer": "ipython3",
   "version": "3.12.3"
  }
 },
 "nbformat": 4,
 "nbformat_minor": 5
}
