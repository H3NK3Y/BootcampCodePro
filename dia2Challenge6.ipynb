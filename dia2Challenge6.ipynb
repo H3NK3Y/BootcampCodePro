{
 "cells": [
  {
   "cell_type": "markdown",
   "id": "b20eca4e",
   "metadata": {},
   "source": [
    "#Crea una lista de marcas\n",
    "#Recorrer la lista de marcas\n",
    "#Crear una condicion si la palabra tiene mas de 6 caracteres\n",
    "#Imprimir los que tiener 6 o mas caracteres"
   ]
  },
  {
   "cell_type": "code",
   "execution_count": 17,
   "id": "2b4e1fa1",
   "metadata": {},
   "outputs": [
    {
     "name": "stdout",
     "output_type": "stream",
     "text": [
      "El nombre de adidas tiene 6 letras o mas\n",
      "El nombre nike no tienen tantas letras\n",
      "El nombre de toyota tiene 6 letras o mas\n",
      "El nombre de netflix tiene 6 letras o mas\n",
      "El nombre de facebook tiene 6 letras o mas\n",
      "El nombre de lenovo tiene 6 letras o mas\n"
     ]
    }
   ],
   "source": [
    "lista_marcas = [\"adidas\", \"nike\", \"toyota\", \"netflix\", \"facebook\", \"lenovo\"]\n",
    "for marca in lista_marcas:\n",
    "    len(marca)\n",
    "    if len(marca) >= 6:\n",
    "        print(f\"El nombre de {marca} tiene 6 letras o mas\")\n",
    "    else:\n",
    "        print(f\"El nombre {marca} no tienen tantas letras\")"
   ]
  }
 ],
 "metadata": {
  "kernelspec": {
   "display_name": ".venv",
   "language": "python",
   "name": "python3"
  },
  "language_info": {
   "codemirror_mode": {
    "name": "ipython",
    "version": 3
   },
   "file_extension": ".py",
   "mimetype": "text/x-python",
   "name": "python",
   "nbconvert_exporter": "python",
   "pygments_lexer": "ipython3",
   "version": "3.12.3"
  }
 },
 "nbformat": 4,
 "nbformat_minor": 5
}
