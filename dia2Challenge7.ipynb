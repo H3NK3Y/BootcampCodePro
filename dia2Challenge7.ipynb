{
 "cells": [
  {
   "cell_type": "code",
   "execution_count": 18,
   "id": "31577378",
   "metadata": {},
   "outputs": [
    {
     "name": "stdout",
     "output_type": "stream",
     "text": [
      "Esta letra no es una O\n",
      "Esta letra es una O\n",
      "Esta letra no es una O\n",
      "Esta letra no es una O\n",
      "Esta letra no es una O\n",
      "Esta letra no es una O\n",
      "Esta letra no es una O\n",
      "Esta letra no es una O\n"
     ]
    }
   ],
   "source": [
    "frase = input(\"Ingrese una frase\")\n",
    "for o in frase:\n",
    "    if o == \"o\":\n",
    "        print(\"Esta letra es una O\")\n",
    "    else:\n",
    "        print(\"Esta letra no es una O\")"
   ]
  }
 ],
 "metadata": {
  "kernelspec": {
   "display_name": ".venv",
   "language": "python",
   "name": "python3"
  },
  "language_info": {
   "codemirror_mode": {
    "name": "ipython",
    "version": 3
   },
   "file_extension": ".py",
   "mimetype": "text/x-python",
   "name": "python",
   "nbconvert_exporter": "python",
   "pygments_lexer": "ipython3",
   "version": "3.12.3"
  }
 },
 "nbformat": 4,
 "nbformat_minor": 5
}
