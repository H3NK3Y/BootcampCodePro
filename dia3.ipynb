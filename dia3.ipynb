{
 "cells": [
  {
   "cell_type": "markdown",
   "id": "7c715a88",
   "metadata": {},
   "source": [
    "Challenge 1 🤺 - 10m\n",
    "Crear una función que imprima la variable palabra.\n"
   ]
  },
  {
   "cell_type": "code",
   "execution_count": 19,
   "id": "c8cb78a0",
   "metadata": {},
   "outputs": [
    {
     "name": "stdout",
     "output_type": "stream",
     "text": [
      "que tal\n"
     ]
    }
   ],
   "source": [
    "def impprimir_palabra(hola):\n",
    "    print(hola)\n",
    "saludo(\"que tal\")\n"
   ]
  },
  {
   "cell_type": "code",
   "execution_count": 2,
   "id": "4c495b6e",
   "metadata": {},
   "outputs": [
    {
     "name": "stdout",
     "output_type": "stream",
     "text": [
      "4\n"
     ]
    }
   ],
   "source": [
    "def sumatoria(num1, num2):\n",
    "    suma = num1 + num2\n",
    "    print(suma)\n",
    "\n",
    "sumatoria(1, 3)"
   ]
  },
  {
   "cell_type": "markdown",
   "id": "7db36fcc",
   "metadata": {},
   "source": []
  },
  {
   "cell_type": "code",
   "execution_count": null,
   "id": "859fa08c",
   "metadata": {},
   "outputs": [],
   "source": []
  }
 ],
 "metadata": {
  "kernelspec": {
   "display_name": ".venv",
   "language": "python",
   "name": "python3"
  },
  "language_info": {
   "codemirror_mode": {
    "name": "ipython",
    "version": 3
   },
   "file_extension": ".py",
   "mimetype": "text/x-python",
   "name": "python",
   "nbconvert_exporter": "python",
   "pygments_lexer": "ipython3",
   "version": "3.12.3"
  }
 },
 "nbformat": 4,
 "nbformat_minor": 5
}
