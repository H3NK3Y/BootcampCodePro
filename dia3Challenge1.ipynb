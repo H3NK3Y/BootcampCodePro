{
 "cells": [
  {
   "cell_type": "markdown",
   "id": "3e75cd9e",
   "metadata": {},
   "source": [
    "Challenge 1 🤺 - 10m\n",
    "Crear una función que imprima la variable palabra."
   ]
  },
  {
   "cell_type": "code",
   "execution_count": 4,
   "id": "60b8fca0",
   "metadata": {},
   "outputs": [
    {
     "name": "stdout",
     "output_type": "stream",
     "text": [
      "tal\n"
     ]
    }
   ],
   "source": [
    "def imprimir_palabra(hola):\n",
    "    print(hola)\n",
    "\n",
    "imprimir_palabra(\"tal\")"
   ]
  }
 ],
 "metadata": {
  "kernelspec": {
   "display_name": ".venv",
   "language": "python",
   "name": "python3"
  },
  "language_info": {
   "codemirror_mode": {
    "name": "ipython",
    "version": 3
   },
   "file_extension": ".py",
   "mimetype": "text/x-python",
   "name": "python",
   "nbconvert_exporter": "python",
   "pygments_lexer": "ipython3",
   "version": "3.12.3"
  }
 },
 "nbformat": 4,
 "nbformat_minor": 5
}
