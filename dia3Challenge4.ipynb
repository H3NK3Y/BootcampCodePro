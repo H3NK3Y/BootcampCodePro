{
 "cells": [
  {
   "cell_type": "markdown",
   "id": "315a0353",
   "metadata": {},
   "source": [
    "Challenge 5 🤺 - 25m\n",
    "Pedir al usuario que ingrese 1 palabra, luego convertir esa palabra a una lista con sus caracteres con list(). Agregar esa lista de caracteres a una lista llamada palabras_ingresadas. Repetir el proceso 3 veces. Cada vez que se agregue una lista de caracteres, imprimir la lista palabras_ingresadas.\n",
    "\n",
    "\n",
    "Ejemplo del resultado esperado:\n",
    "\n",
    "[['c', 'i', 'e', 'l', 'o']]\n",
    " # Al ingresar la primera palabra\n",
    "\n",
    "[['c', 'i', 'e', 'l', 'o'], ['c', 'a', 'l', 'o', 'r']]\n",
    " # Al ingresar la segunda palabra\n",
    "\n",
    "[['c', 'i', 'e', 'l', 'o'], ['c', 'a', 'l', 'o', 'r'], ['n', 'u', 'b', 'e', 's']]\n",
    " # Al ingresar la tercera palabra"
   ]
  },
  {
   "cell_type": "code",
   "execution_count": 18,
   "id": "e6ef5d93",
   "metadata": {},
   "outputs": [
    {
     "name": "stdout",
     "output_type": "stream",
     "text": [
      "Lista actual de palabras ingresadas: [['F', 'A', 'B', 'R', 'I', 'Z', 'I', 'O']]\n",
      "Lista actual de palabras ingresadas: [['F', 'A', 'B', 'R', 'I', 'Z', 'I', 'O'], ['L', 'U', 'I', 'S']]\n",
      "Lista actual de palabras ingresadas: [['F', 'A', 'B', 'R', 'I', 'Z', 'I', 'O'], ['L', 'U', 'I', 'S'], ['V', 'E', 'R', 'A']]\n"
     ]
    }
   ],
   "source": [
    "    #Paso 1: Crear la lista vacía para almacenar las palabras convertidas\n",
    "palabras_ingresadas = []\n",
    "\n",
    "    # Paso 2: Repetir el proceso 3 veces\n",
    "for i in range(3):\n",
    "    # Paso 3: Pedir al usuario que ingrese una palabra\n",
    "    palabra = input(\"Ingresa una palabra: \")\n",
    "    \n",
    "    # Paso 4: Convertir la palabra en una lista de caracteres\n",
    "    lista_caracteres = list(palabra)\n",
    "    \n",
    "    # Paso 5: Agregar la lista de caracteres a palabras_ingresadas\n",
    "    palabras_ingresadas.append(lista_caracteres)\n",
    "    \n",
    "    # Paso 6: Imprimir la lista actualizada\n",
    "    print(\"Lista actual de palabras ingresadas:\", palabras_ingresadas)"
   ]
  }
 ],
 "metadata": {
  "kernelspec": {
   "display_name": ".venv",
   "language": "python",
   "name": "python3"
  },
  "language_info": {
   "codemirror_mode": {
    "name": "ipython",
    "version": 3
   },
   "file_extension": ".py",
   "mimetype": "text/x-python",
   "name": "python",
   "nbconvert_exporter": "python",
   "pygments_lexer": "ipython3",
   "version": "3.12.3"
  }
 },
 "nbformat": 4,
 "nbformat_minor": 5
}
