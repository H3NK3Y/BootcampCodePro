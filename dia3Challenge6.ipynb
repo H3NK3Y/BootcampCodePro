{
 "cells": [
  {
   "cell_type": "code",
   "execution_count": 16,
   "id": "79b3609d",
   "metadata": {},
   "outputs": [
    {
     "name": "stdout",
     "output_type": "stream",
     "text": [
      "['(c)', 'o', 'l', 'm', 'o', 's']\n",
      "Te quedan 3 intentos\n",
      "Felicidades\n",
      "Game Over\n"
     ]
    }
   ],
   "source": [
    "cantidad_de_letras = 6\n",
    "palabra_correcta = 'choclo' \n",
    "palabra_verificada = []\n",
    "def verificacion():\n",
    "    intentos = 3\n",
    "    while intentos > 0:\n",
    "        palabra_ingresada = input(\"Bienvenido. Ingrese una palabra\")\n",
    "        if palabra_ingresada == palabra_correcta:\n",
    "            print(\"Felicidades\")\n",
    "            break\n",
    "        else:\n",
    "            for i in range(cantidad_de_letras):# recorrer la palabra ingresada Pueblo\n",
    "                letra_correcta = palabra_ingresada[i] == palabra_correcta # verificar si la letra existe dentro de lista\n",
    "                posicion_correcta = palabra_ingresada[i] == palabra_correcta[i] # verificar si la letra se encuentra en la posicion correcta\n",
    "                if letra_correcta:\n",
    "                    palabra_verificada.append('[' + palabra_ingresada[i] + ']')\n",
    "                elif posicion_correcta:\n",
    "                    palabra_verificada.append('('+ palabra_ingresada[i] + ')')\n",
    "                else:\n",
    "                    palabra_verificada.append(palabra_ingresada[i])\n",
    "            print(palabra_verificada)\n",
    "        print(f\"Te quedan {intentos} intentos\")\n",
    "        intentos= intentos - 1\n",
    "        \n",
    "    print(\"Game Over\")\n",
    "\n",
    "verificacion()"
   ]
  }
 ],
 "metadata": {
  "kernelspec": {
   "display_name": ".venv",
   "language": "python",
   "name": "python3"
  },
  "language_info": {
   "codemirror_mode": {
    "name": "ipython",
    "version": 3
   },
   "file_extension": ".py",
   "mimetype": "text/x-python",
   "name": "python",
   "nbconvert_exporter": "python",
   "pygments_lexer": "ipython3",
   "version": "3.12.3"
  }
 },
 "nbformat": 4,
 "nbformat_minor": 5
}
